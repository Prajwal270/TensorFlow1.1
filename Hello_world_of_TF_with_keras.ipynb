{
  "nbformat": 4,
  "nbformat_minor": 0,
  "metadata": {
    "colab": {
      "name": "Hello_world_of_TF_with_keras.ipynb",
      "provenance": [],
      "authorship_tag": "ABX9TyNAUsJxvo78aH1zq0vastqb",
      "include_colab_link": true
    },
    "kernelspec": {
      "name": "python3",
      "display_name": "Python 3"
    }
  },
  "cells": [
    {
      "cell_type": "markdown",
      "metadata": {
        "id": "view-in-github",
        "colab_type": "text"
      },
      "source": [
        "<a href=\"https://colab.research.google.com/github/Prajwal270/TensorFlow1.1/blob/master/Hello_world_of_TF_with_keras.ipynb\" target=\"_parent\"><img src=\"https://colab.research.google.com/assets/colab-badge.svg\" alt=\"Open In Colab\"/></a>"
      ]
    },
    {
      "cell_type": "code",
      "metadata": {
        "id": "d2Mb1r9sbuOu",
        "colab_type": "code",
        "colab": {
          "base_uri": "https://localhost:8080/",
          "height": 63
        },
        "outputId": "cb4273f5-288c-471a-8e57-c0eed548bf2b"
      },
      "source": [
        "#import required libraries\n",
        "import tensorflow as tf\n",
        "from tensorflow import keras\n",
        "import numpy as np"
      ],
      "execution_count": 1,
      "outputs": [
        {
          "output_type": "display_data",
          "data": {
            "text/html": [
              "<p style=\"color: red;\">\n",
              "The default version of TensorFlow in Colab will soon switch to TensorFlow 2.x.<br>\n",
              "We recommend you <a href=\"https://www.tensorflow.org/guide/migrate\" target=\"_blank\">upgrade</a> now \n",
              "or ensure your notebook will continue to use TensorFlow 1.x via the <code>%tensorflow_version 1.x</code> magic:\n",
              "<a href=\"https://colab.research.google.com/notebooks/tensorflow_version.ipynb\" target=\"_blank\">more info</a>.</p>\n"
            ],
            "text/plain": [
              "<IPython.core.display.HTML object>"
            ]
          },
          "metadata": {
            "tags": []
          }
        }
      ]
    },
    {
      "cell_type": "code",
      "metadata": {
        "id": "OuK1xsjecP1j",
        "colab_type": "code",
        "colab": {
          "base_uri": "https://localhost:8080/",
          "height": 34
        },
        "outputId": "9a2c587b-b0d2-4824-fb54-f18df80eefa8"
      },
      "source": [
        "print(tf.__version__)"
      ],
      "execution_count": 2,
      "outputs": [
        {
          "output_type": "stream",
          "text": [
            "1.15.0\n"
          ],
          "name": "stdout"
        }
      ]
    },
    {
      "cell_type": "code",
      "metadata": {
        "id": "BWbEGV-IcTMH",
        "colab_type": "code",
        "colab": {}
      },
      "source": [
        "# Input Data\n",
        "x = np.array([1.0,2.0,3.0,4.0,5.0,6.0], dtype='float32')\n",
        "y = np.array([1.0,1.5,2.0,2.5,3.0,3.5], dtype='float32')"
      ],
      "execution_count": 0,
      "outputs": []
    },
    {
      "cell_type": "code",
      "metadata": {
        "id": "M2W5wBbOco9a",
        "colab_type": "code",
        "colab": {
          "base_uri": "https://localhost:8080/",
          "height": 90
        },
        "outputId": "6aaf2ebb-cc4a-4936-d20b-51c6191cedfe"
      },
      "source": [
        "# Building the model\n",
        "model = tf.keras.Sequential([\n",
        "                             keras.layers.Dense(1, input_shape=[1])\n",
        "])"
      ],
      "execution_count": 4,
      "outputs": [
        {
          "output_type": "stream",
          "text": [
            "WARNING:tensorflow:From /usr/local/lib/python3.6/dist-packages/tensorflow_core/python/ops/resource_variable_ops.py:1630: calling BaseResourceVariable.__init__ (from tensorflow.python.ops.resource_variable_ops) with constraint is deprecated and will be removed in a future version.\n",
            "Instructions for updating:\n",
            "If using Keras pass *_constraint arguments to layers.\n"
          ],
          "name": "stdout"
        }
      ]
    },
    {
      "cell_type": "code",
      "metadata": {
        "id": "0N7cq97Nc96J",
        "colab_type": "code",
        "colab": {}
      },
      "source": [
        "#Compiling the model\n",
        "model.compile(loss='mean_squared_error', optimizer='sgd')"
      ],
      "execution_count": 0,
      "outputs": []
    },
    {
      "cell_type": "code",
      "metadata": {
        "id": "K4Vb80szdJZ6",
        "colab_type": "code",
        "colab": {
          "base_uri": "https://localhost:8080/",
          "height": 1000
        },
        "outputId": "017b41e8-8ee8-432e-efcb-474df383ba67"
      },
      "source": [
        "model.fit(x,y, epochs= 100)"
      ],
      "execution_count": 6,
      "outputs": [
        {
          "output_type": "stream",
          "text": [
            "Train on 6 samples\n",
            "Epoch 1/100\n",
            "6/6 [==============================] - 0s 66ms/sample - loss: 30.4331\n",
            "Epoch 2/100\n",
            "6/6 [==============================] - 0s 615us/sample - loss: 14.0889\n",
            "Epoch 3/100\n",
            "6/6 [==============================] - 0s 511us/sample - loss: 6.5243\n",
            "Epoch 4/100\n",
            "6/6 [==============================] - 0s 448us/sample - loss: 3.0231\n",
            "Epoch 5/100\n",
            "6/6 [==============================] - 0s 627us/sample - loss: 1.4026\n",
            "Epoch 6/100\n",
            "6/6 [==============================] - 0s 600us/sample - loss: 0.6526\n",
            "Epoch 7/100\n",
            "6/6 [==============================] - 0s 599us/sample - loss: 0.3055\n",
            "Epoch 8/100\n",
            "6/6 [==============================] - 0s 325us/sample - loss: 0.1448\n",
            "Epoch 9/100\n",
            "6/6 [==============================] - 0s 267us/sample - loss: 0.0704\n",
            "Epoch 10/100\n",
            "6/6 [==============================] - 0s 448us/sample - loss: 0.0359\n",
            "Epoch 11/100\n",
            "6/6 [==============================] - 0s 343us/sample - loss: 0.0199\n",
            "Epoch 12/100\n",
            "6/6 [==============================] - 0s 300us/sample - loss: 0.0125\n",
            "Epoch 13/100\n",
            "6/6 [==============================] - 0s 379us/sample - loss: 0.0090\n",
            "Epoch 14/100\n",
            "6/6 [==============================] - 0s 197us/sample - loss: 0.0074\n",
            "Epoch 15/100\n",
            "6/6 [==============================] - 0s 329us/sample - loss: 0.0067\n",
            "Epoch 16/100\n",
            "6/6 [==============================] - 0s 312us/sample - loss: 0.0063\n",
            "Epoch 17/100\n",
            "6/6 [==============================] - 0s 312us/sample - loss: 0.0061\n",
            "Epoch 18/100\n",
            "6/6 [==============================] - 0s 309us/sample - loss: 0.0060\n",
            "Epoch 19/100\n",
            "6/6 [==============================] - 0s 238us/sample - loss: 0.0059\n",
            "Epoch 20/100\n",
            "6/6 [==============================] - 0s 267us/sample - loss: 0.0058\n",
            "Epoch 21/100\n",
            "6/6 [==============================] - 0s 177us/sample - loss: 0.0058\n",
            "Epoch 22/100\n",
            "6/6 [==============================] - 0s 313us/sample - loss: 0.0057\n",
            "Epoch 23/100\n",
            "6/6 [==============================] - 0s 307us/sample - loss: 0.0057\n",
            "Epoch 24/100\n",
            "6/6 [==============================] - 0s 202us/sample - loss: 0.0056\n",
            "Epoch 25/100\n",
            "6/6 [==============================] - 0s 167us/sample - loss: 0.0056\n",
            "Epoch 26/100\n",
            "6/6 [==============================] - 0s 389us/sample - loss: 0.0056\n",
            "Epoch 27/100\n",
            "6/6 [==============================] - 0s 372us/sample - loss: 0.0055\n",
            "Epoch 28/100\n",
            "6/6 [==============================] - 0s 239us/sample - loss: 0.0055\n",
            "Epoch 29/100\n",
            "6/6 [==============================] - 0s 197us/sample - loss: 0.0054\n",
            "Epoch 30/100\n",
            "6/6 [==============================] - 0s 184us/sample - loss: 0.0054\n",
            "Epoch 31/100\n",
            "6/6 [==============================] - 0s 187us/sample - loss: 0.0054\n",
            "Epoch 32/100\n",
            "6/6 [==============================] - 0s 260us/sample - loss: 0.0053\n",
            "Epoch 33/100\n",
            "6/6 [==============================] - 0s 224us/sample - loss: 0.0053\n",
            "Epoch 34/100\n",
            "6/6 [==============================] - 0s 237us/sample - loss: 0.0052\n",
            "Epoch 35/100\n",
            "6/6 [==============================] - 0s 225us/sample - loss: 0.0052\n",
            "Epoch 36/100\n",
            "6/6 [==============================] - 0s 241us/sample - loss: 0.0052\n",
            "Epoch 37/100\n",
            "6/6 [==============================] - 0s 231us/sample - loss: 0.0051\n",
            "Epoch 38/100\n",
            "6/6 [==============================] - 0s 249us/sample - loss: 0.0051\n",
            "Epoch 39/100\n",
            "6/6 [==============================] - 0s 262us/sample - loss: 0.0051\n",
            "Epoch 40/100\n",
            "6/6 [==============================] - 0s 423us/sample - loss: 0.0050\n",
            "Epoch 41/100\n",
            "6/6 [==============================] - 0s 1ms/sample - loss: 0.0050\n",
            "Epoch 42/100\n",
            "6/6 [==============================] - 0s 303us/sample - loss: 0.0049\n",
            "Epoch 43/100\n",
            "6/6 [==============================] - 0s 312us/sample - loss: 0.0049\n",
            "Epoch 44/100\n",
            "6/6 [==============================] - 0s 320us/sample - loss: 0.0049\n",
            "Epoch 45/100\n",
            "6/6 [==============================] - 0s 296us/sample - loss: 0.0048\n",
            "Epoch 46/100\n",
            "6/6 [==============================] - 0s 232us/sample - loss: 0.0048\n",
            "Epoch 47/100\n",
            "6/6 [==============================] - 0s 275us/sample - loss: 0.0048\n",
            "Epoch 48/100\n",
            "6/6 [==============================] - 0s 269us/sample - loss: 0.0047\n",
            "Epoch 49/100\n",
            "6/6 [==============================] - 0s 285us/sample - loss: 0.0047\n",
            "Epoch 50/100\n",
            "6/6 [==============================] - 0s 237us/sample - loss: 0.0047\n",
            "Epoch 51/100\n",
            "6/6 [==============================] - 0s 304us/sample - loss: 0.0046\n",
            "Epoch 52/100\n",
            "6/6 [==============================] - 0s 260us/sample - loss: 0.0046\n",
            "Epoch 53/100\n",
            "6/6 [==============================] - 0s 268us/sample - loss: 0.0046\n",
            "Epoch 54/100\n",
            "6/6 [==============================] - 0s 265us/sample - loss: 0.0045\n",
            "Epoch 55/100\n",
            "6/6 [==============================] - 0s 251us/sample - loss: 0.0045\n",
            "Epoch 56/100\n",
            "6/6 [==============================] - 0s 419us/sample - loss: 0.0045\n",
            "Epoch 57/100\n",
            "6/6 [==============================] - 0s 313us/sample - loss: 0.0044\n",
            "Epoch 58/100\n",
            "6/6 [==============================] - 0s 220us/sample - loss: 0.0044\n",
            "Epoch 59/100\n",
            "6/6 [==============================] - 0s 244us/sample - loss: 0.0044\n",
            "Epoch 60/100\n",
            "6/6 [==============================] - 0s 342us/sample - loss: 0.0043\n",
            "Epoch 61/100\n",
            "6/6 [==============================] - 0s 244us/sample - loss: 0.0043\n",
            "Epoch 62/100\n",
            "6/6 [==============================] - 0s 267us/sample - loss: 0.0043\n",
            "Epoch 63/100\n",
            "6/6 [==============================] - 0s 216us/sample - loss: 0.0042\n",
            "Epoch 64/100\n",
            "6/6 [==============================] - 0s 318us/sample - loss: 0.0042\n",
            "Epoch 65/100\n",
            "6/6 [==============================] - 0s 318us/sample - loss: 0.0042\n",
            "Epoch 66/100\n",
            "6/6 [==============================] - 0s 265us/sample - loss: 0.0041\n",
            "Epoch 67/100\n",
            "6/6 [==============================] - 0s 271us/sample - loss: 0.0041\n",
            "Epoch 68/100\n",
            "6/6 [==============================] - 0s 260us/sample - loss: 0.0041\n",
            "Epoch 69/100\n",
            "6/6 [==============================] - 0s 272us/sample - loss: 0.0041\n",
            "Epoch 70/100\n",
            "6/6 [==============================] - 0s 275us/sample - loss: 0.0040\n",
            "Epoch 71/100\n",
            "6/6 [==============================] - 0s 251us/sample - loss: 0.0040\n",
            "Epoch 72/100\n",
            "6/6 [==============================] - 0s 330us/sample - loss: 0.0040\n",
            "Epoch 73/100\n",
            "6/6 [==============================] - 0s 281us/sample - loss: 0.0039\n",
            "Epoch 74/100\n",
            "6/6 [==============================] - 0s 273us/sample - loss: 0.0039\n",
            "Epoch 75/100\n",
            "6/6 [==============================] - 0s 291us/sample - loss: 0.0039\n",
            "Epoch 76/100\n",
            "6/6 [==============================] - 0s 339us/sample - loss: 0.0039\n",
            "Epoch 77/100\n",
            "6/6 [==============================] - 0s 296us/sample - loss: 0.0038\n",
            "Epoch 78/100\n",
            "6/6 [==============================] - 0s 414us/sample - loss: 0.0038\n",
            "Epoch 79/100\n",
            "6/6 [==============================] - 0s 255us/sample - loss: 0.0038\n",
            "Epoch 80/100\n",
            "6/6 [==============================] - 0s 244us/sample - loss: 0.0037\n",
            "Epoch 81/100\n",
            "6/6 [==============================] - 0s 255us/sample - loss: 0.0037\n",
            "Epoch 82/100\n",
            "6/6 [==============================] - 0s 389us/sample - loss: 0.0037\n",
            "Epoch 83/100\n",
            "6/6 [==============================] - 0s 274us/sample - loss: 0.0037\n",
            "Epoch 84/100\n",
            "6/6 [==============================] - 0s 322us/sample - loss: 0.0036\n",
            "Epoch 85/100\n",
            "6/6 [==============================] - 0s 257us/sample - loss: 0.0036\n",
            "Epoch 86/100\n",
            "6/6 [==============================] - 0s 252us/sample - loss: 0.0036\n",
            "Epoch 87/100\n",
            "6/6 [==============================] - 0s 349us/sample - loss: 0.0036\n",
            "Epoch 88/100\n",
            "6/6 [==============================] - 0s 250us/sample - loss: 0.0035\n",
            "Epoch 89/100\n",
            "6/6 [==============================] - 0s 275us/sample - loss: 0.0035\n",
            "Epoch 90/100\n",
            "6/6 [==============================] - 0s 263us/sample - loss: 0.0035\n",
            "Epoch 91/100\n",
            "6/6 [==============================] - 0s 347us/sample - loss: 0.0035\n",
            "Epoch 92/100\n",
            "6/6 [==============================] - 0s 278us/sample - loss: 0.0034\n",
            "Epoch 93/100\n",
            "6/6 [==============================] - 0s 255us/sample - loss: 0.0034\n",
            "Epoch 94/100\n",
            "6/6 [==============================] - 0s 270us/sample - loss: 0.0034\n",
            "Epoch 95/100\n",
            "6/6 [==============================] - 0s 277us/sample - loss: 0.0034\n",
            "Epoch 96/100\n",
            "6/6 [==============================] - 0s 260us/sample - loss: 0.0033\n",
            "Epoch 97/100\n",
            "6/6 [==============================] - 0s 243us/sample - loss: 0.0033\n",
            "Epoch 98/100\n",
            "6/6 [==============================] - 0s 275us/sample - loss: 0.0033\n",
            "Epoch 99/100\n",
            "6/6 [==============================] - 0s 241us/sample - loss: 0.0033\n",
            "Epoch 100/100\n",
            "6/6 [==============================] - 0s 247us/sample - loss: 0.0032\n"
          ],
          "name": "stdout"
        },
        {
          "output_type": "execute_result",
          "data": {
            "text/plain": [
              "<tensorflow.python.keras.callbacks.History at 0x7f73e50b6dd8>"
            ]
          },
          "metadata": {
            "tags": []
          },
          "execution_count": 6
        }
      ]
    },
    {
      "cell_type": "code",
      "metadata": {
        "id": "7fqQq9nCdS8g",
        "colab_type": "code",
        "colab": {}
      },
      "source": [
        "predict = model.predict([7.0])"
      ],
      "execution_count": 0,
      "outputs": []
    },
    {
      "cell_type": "code",
      "metadata": {
        "id": "FH8OLibBdYlV",
        "colab_type": "code",
        "colab": {
          "base_uri": "https://localhost:8080/",
          "height": 34
        },
        "outputId": "6c713071-fb12-445f-80f0-8cb5c34e8ac6"
      },
      "source": [
        "predict"
      ],
      "execution_count": 8,
      "outputs": [
        {
          "output_type": "execute_result",
          "data": {
            "text/plain": [
              "array([[4.0820284]], dtype=float32)"
            ]
          },
          "metadata": {
            "tags": []
          },
          "execution_count": 8
        }
      ]
    },
    {
      "cell_type": "code",
      "metadata": {
        "id": "r4qAz7kKdbdL",
        "colab_type": "code",
        "colab": {}
      },
      "source": [
        ""
      ],
      "execution_count": 0,
      "outputs": []
    }
  ]
}