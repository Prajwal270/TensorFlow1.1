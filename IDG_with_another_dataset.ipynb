{
  "nbformat": 4,
  "nbformat_minor": 0,
  "metadata": {
    "colab": {
      "name": "IDG_with_another_dataset.ipynb",
      "provenance": [],
      "authorship_tag": "ABX9TyNpyn5B/oeqchYediIbc6AS",
      "include_colab_link": true
    },
    "kernelspec": {
      "name": "python3",
      "display_name": "Python 3"
    }
  },
  "cells": [
    {
      "cell_type": "markdown",
      "metadata": {
        "id": "view-in-github",
        "colab_type": "text"
      },
      "source": [
        "<a href=\"https://colab.research.google.com/github/Prajwal270/TensorFlow1.1/blob/master/IDG_with_another_dataset.ipynb\" target=\"_parent\"><img src=\"https://colab.research.google.com/assets/colab-badge.svg\" alt=\"Open In Colab\"/></a>"
      ]
    },
    {
      "cell_type": "code",
      "metadata": {
        "id": "b1y-0rlSEcVd",
        "colab_type": "code",
        "outputId": "5ff56283-9912-41f7-e667-f8ab586e1e18",
        "colab": {
          "base_uri": "https://localhost:8080/",
          "height": 34
        }
      },
      "source": [
        "print('Prajwal Raj')"
      ],
      "execution_count": 0,
      "outputs": [
        {
          "output_type": "stream",
          "text": [
            "Prajwal Raj\n"
          ],
          "name": "stdout"
        }
      ]
    },
    {
      "cell_type": "code",
      "metadata": {
        "id": "XM1PcIM1Eg4F",
        "colab_type": "code",
        "outputId": "47076f5b-e541-4c32-817d-c744e774a5de",
        "colab": {
          "base_uri": "https://localhost:8080/",
          "height": 212
        }
      },
      "source": [
        "!wget --no-check-certificate \\\n",
        "    https://storage.googleapis.com/mledu-datasets/cats_and_dogs_filtered.zip \\\n",
        "    -O /tmp/cats_and_dogs_filtered.zip"
      ],
      "execution_count": 0,
      "outputs": [
        {
          "output_type": "stream",
          "text": [
            "--2020-02-11 16:27:12--  https://storage.googleapis.com/mledu-datasets/cats_and_dogs_filtered.zip\n",
            "Resolving storage.googleapis.com (storage.googleapis.com)... 74.125.195.128, 2607:f8b0:400e:c09::80\n",
            "Connecting to storage.googleapis.com (storage.googleapis.com)|74.125.195.128|:443... connected.\n",
            "HTTP request sent, awaiting response... 200 OK\n",
            "Length: 68606236 (65M) [application/zip]\n",
            "Saving to: ‘/tmp/cats_and_dogs_filtered.zip’\n",
            "\n",
            "\r          /tmp/cats   0%[                    ]       0  --.-KB/s               \r         /tmp/cats_  30%[=====>              ]  19.94M  99.4MB/s               \r/tmp/cats_and_dogs_ 100%[===================>]  65.43M   188MB/s    in 0.3s    \n",
            "\n",
            "2020-02-11 16:27:12 (188 MB/s) - ‘/tmp/cats_and_dogs_filtered.zip’ saved [68606236/68606236]\n",
            "\n"
          ],
          "name": "stdout"
        }
      ]
    },
    {
      "cell_type": "code",
      "metadata": {
        "id": "vrRhY6RbE2xb",
        "colab_type": "code",
        "colab": {}
      },
      "source": [
        "import os \n",
        "import zipfile"
      ],
      "execution_count": 0,
      "outputs": []
    },
    {
      "cell_type": "code",
      "metadata": {
        "id": "TSoZbWieE-rV",
        "colab_type": "code",
        "colab": {}
      },
      "source": [
        "local_dir = '/tmp/cats_and_dogs_filtered.zip'\n",
        "zip = zipfile.ZipFile(local_dir,'r')\n",
        "zip.extractall('/tmp/cats_and_dogs')\n",
        "zip.close()"
      ],
      "execution_count": 0,
      "outputs": []
    },
    {
      "cell_type": "code",
      "metadata": {
        "id": "nr2v9HJ3Fh9B",
        "colab_type": "code",
        "colab": {}
      },
      "source": [
        "base_dir = '/tmp/cats_and_dogs'\n",
        "train_dir = os.path.join(base_dir, 'train')"
      ],
      "execution_count": 0,
      "outputs": []
    },
    {
      "cell_type": "code",
      "metadata": {
        "id": "NNukasaBGhrp",
        "colab_type": "code",
        "colab": {}
      },
      "source": [
        "# Directory with our training cat pictures\n",
        "train_cats_dir = os.path.join(train_dir, 'cats')\n",
        "\n",
        "# Directory with our training dog pictures\n",
        "train_dogs_dir = os.path.join(train_dir, 'dogs')"
      ],
      "execution_count": 0,
      "outputs": []
    },
    {
      "cell_type": "code",
      "metadata": {
        "id": "QPBYbrbYGqS3",
        "colab_type": "code",
        "colab": {}
      },
      "source": [
        "import tensorflow as tf\n",
        "model = tf.keras.models.Sequential([\n",
        "\n",
        "tf.keras.layers.Conv2D(16,(2,2), input_shape=(150,150,3), activation = 'relu'),\n",
        "tf.keras.layers.MaxPool2D(2,2),\n",
        "\n",
        "tf.keras.layers.Conv2D(64,(2,2),  activation = 'relu'), \n",
        "tf.keras.layers.MaxPool2D(2,2),    \n",
        "\n",
        "tf.keras.layers.Conv2D(120,(2,2), activation = 'relu'), \n",
        "tf.keras.layers.MaxPool2D(2,2),    \n",
        "\n",
        "tf.keras.layers.Flatten(),\n",
        "tf.keras.layers.Dense(128, activation='relu'),\n",
        "tf.keras.layers.Dense(1, activation='sigmoid')\n",
        "])"
      ],
      "execution_count": 0,
      "outputs": []
    },
    {
      "cell_type": "code",
      "metadata": {
        "id": "eHEdVkChHBos",
        "colab_type": "code",
        "outputId": "edda9066-17ed-4a92-cbd5-3a97e53960cf",
        "colab": {
          "base_uri": "https://localhost:8080/",
          "height": 478
        }
      },
      "source": [
        "model.summary()"
      ],
      "execution_count": 0,
      "outputs": [
        {
          "output_type": "stream",
          "text": [
            "Model: \"sequential_1\"\n",
            "_________________________________________________________________\n",
            "Layer (type)                 Output Shape              Param #   \n",
            "=================================================================\n",
            "conv2d_1 (Conv2D)            (None, 149, 149, 16)      208       \n",
            "_________________________________________________________________\n",
            "max_pooling2d (MaxPooling2D) (None, 74, 74, 16)        0         \n",
            "_________________________________________________________________\n",
            "conv2d_2 (Conv2D)            (None, 73, 73, 64)        4160      \n",
            "_________________________________________________________________\n",
            "max_pooling2d_1 (MaxPooling2 (None, 36, 36, 64)        0         \n",
            "_________________________________________________________________\n",
            "conv2d_3 (Conv2D)            (None, 35, 35, 120)       30840     \n",
            "_________________________________________________________________\n",
            "max_pooling2d_2 (MaxPooling2 (None, 17, 17, 120)       0         \n",
            "_________________________________________________________________\n",
            "flatten (Flatten)            (None, 34680)             0         \n",
            "_________________________________________________________________\n",
            "dense (Dense)                (None, 128)               4439168   \n",
            "_________________________________________________________________\n",
            "dense_1 (Dense)              (None, 1)                 129       \n",
            "=================================================================\n",
            "Total params: 4,474,505\n",
            "Trainable params: 4,474,505\n",
            "Non-trainable params: 0\n",
            "_________________________________________________________________\n"
          ],
          "name": "stdout"
        }
      ]
    },
    {
      "cell_type": "code",
      "metadata": {
        "id": "pVZrDbrhIImR",
        "colab_type": "code",
        "outputId": "6bcddc92-4742-45b5-a65d-3e0c0271c53d",
        "colab": {
          "base_uri": "https://localhost:8080/",
          "height": 90
        }
      },
      "source": [
        "from tensorflow.keras.optimizers import RMSprop\n",
        "model.compile(loss='binary_crossentropy', optimizer=RMSprop(lr = 0.001), metrics=['acc'])"
      ],
      "execution_count": 0,
      "outputs": [
        {
          "output_type": "stream",
          "text": [
            "WARNING:tensorflow:From /usr/local/lib/python3.6/dist-packages/tensorflow_core/python/ops/nn_impl.py:183: where (from tensorflow.python.ops.array_ops) is deprecated and will be removed in a future version.\n",
            "Instructions for updating:\n",
            "Use tf.where in 2.0, which has the same broadcast rule as np.where\n"
          ],
          "name": "stdout"
        }
      ]
    },
    {
      "cell_type": "code",
      "metadata": {
        "id": "P7_Ktg-TIohE",
        "colab_type": "code",
        "colab": {}
      },
      "source": [
        "from tensorflow.keras.preprocessing.image import ImageDataGenerator\n",
        "\n",
        "train = ImageDataGenerator( rescale=1./255,\n",
        "                           rotation_range=40,\n",
        "                           width_shift_range =0.2,\n",
        "                           height_shift_range=0.2,\n",
        "                           shear_range = 0.2,\n",
        "                           zoom_range=0.2,\n",
        "                           horizontal_flip = True,\n",
        "                           fill_mode = 'nearest')"
      ],
      "execution_count": 0,
      "outputs": []
    },
    {
      "cell_type": "code",
      "metadata": {
        "id": "l4TLjIUMJhmn",
        "colab_type": "code",
        "outputId": "890c9dc6-6be0-479f-b8e6-6bbd8c1fc232",
        "colab": {
          "base_uri": "https://localhost:8080/",
          "height": 34
        }
      },
      "source": [
        "train_gen = train.flow_from_directory(\n",
        "    '/tmp/cats_and_dogs',\n",
        "    batch_size = 30,\n",
        "    target_size = (150,150),\n",
        "    class_mode = 'binary'\n",
        ")"
      ],
      "execution_count": 0,
      "outputs": [
        {
          "output_type": "stream",
          "text": [
            "Found 3000 images belonging to 1 classes.\n"
          ],
          "name": "stdout"
        }
      ]
    },
    {
      "cell_type": "code",
      "metadata": {
        "id": "3rJ6hktVKfKe",
        "colab_type": "code",
        "outputId": "95297704-9f7c-461d-ca93-0add2efbf4fc",
        "colab": {
          "base_uri": "https://localhost:8080/",
          "height": 194
        }
      },
      "source": [
        "history = model.fit_generator(\n",
        "    train_gen,\n",
        "    steps_per_epoch = 40,\n",
        "    epochs = 5,\n",
        "    verbose = 2\n",
        ")"
      ],
      "execution_count": 0,
      "outputs": [
        {
          "output_type": "stream",
          "text": [
            "Epoch 1/5\n",
            "40/40 - 37s - loss: 0.0205 - acc: 0.9750\n",
            "Epoch 2/5\n",
            "40/40 - 34s - loss: 1.1616e-08 - acc: 1.0000\n",
            "Epoch 3/5\n",
            "40/40 - 34s - loss: 8.2916e-09 - acc: 1.0000\n",
            "Epoch 4/5\n",
            "40/40 - 34s - loss: 6.9463e-09 - acc: 1.0000\n",
            "Epoch 5/5\n",
            "40/40 - 31s - loss: 7.8134e-08 - acc: 1.0000\n"
          ],
          "name": "stdout"
        }
      ]
    },
    {
      "cell_type": "code",
      "metadata": {
        "id": "_Z3iRcskK4TB",
        "colab_type": "code",
        "colab": {}
      },
      "source": [
        "import numpy as np"
      ],
      "execution_count": 0,
      "outputs": []
    }
  ]
}