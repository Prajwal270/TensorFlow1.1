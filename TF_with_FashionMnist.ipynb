{
  "nbformat": 4,
  "nbformat_minor": 0,
  "metadata": {
    "colab": {
      "name": "TF_with_FashionMnist.ipynb",
      "provenance": [],
      "authorship_tag": "ABX9TyPS/D5m3x9dFIQG16/HPvkp",
      "include_colab_link": true
    },
    "kernelspec": {
      "name": "python3",
      "display_name": "Python 3"
    }
  },
  "cells": [
    {
      "cell_type": "markdown",
      "metadata": {
        "id": "view-in-github",
        "colab_type": "text"
      },
      "source": [
        "<a href=\"https://colab.research.google.com/github/Prajwal270/TensorFlow1.1/blob/master/TF_with_FashionMnist.ipynb\" target=\"_parent\"><img src=\"https://colab.research.google.com/assets/colab-badge.svg\" alt=\"Open In Colab\"/></a>"
      ]
    },
    {
      "cell_type": "code",
      "metadata": {
        "id": "L5pwZZvoLOfg",
        "colab_type": "code",
        "outputId": "3cc2bd2b-c4d3-4f02-946c-f042f1471f9b",
        "colab": {
          "base_uri": "https://localhost:8080/",
          "height": 81
        }
      },
      "source": [
        "import tensorflow as tf\n",
        "print(tf.__version__)"
      ],
      "execution_count": 1,
      "outputs": [
        {
          "output_type": "display_data",
          "data": {
            "text/html": [
              "<p style=\"color: red;\">\n",
              "The default version of TensorFlow in Colab will soon switch to TensorFlow 2.x.<br>\n",
              "We recommend you <a href=\"https://www.tensorflow.org/guide/migrate\" target=\"_blank\">upgrade</a> now \n",
              "or ensure your notebook will continue to use TensorFlow 1.x via the <code>%tensorflow_version 1.x</code> magic:\n",
              "<a href=\"https://colab.research.google.com/notebooks/tensorflow_version.ipynb\" target=\"_blank\">more info</a>.</p>\n"
            ],
            "text/plain": [
              "<IPython.core.display.HTML object>"
            ]
          },
          "metadata": {
            "tags": []
          }
        },
        {
          "output_type": "stream",
          "text": [
            "1.15.0\n"
          ],
          "name": "stdout"
        }
      ]
    },
    {
      "cell_type": "code",
      "metadata": {
        "id": "Bu18K7P0Lagq",
        "colab_type": "code",
        "colab": {}
      },
      "source": [
        "# Importing the required libraries\n",
        "import tensorflow as tf\n",
        "from tensorflow import keras"
      ],
      "execution_count": 0,
      "outputs": []
    },
    {
      "cell_type": "code",
      "metadata": {
        "id": "5c1JwZ5xL3c6",
        "colab_type": "code",
        "colab": {
          "base_uri": "https://localhost:8080/",
          "height": 34
        },
        "outputId": "32f74845-c470-4d5e-eab3-9949d4d3764b"
      },
      "source": [
        "from keras.datasets import fashion_mnist"
      ],
      "execution_count": 3,
      "outputs": [
        {
          "output_type": "stream",
          "text": [
            "Using TensorFlow backend.\n"
          ],
          "name": "stderr"
        }
      ]
    },
    {
      "cell_type": "code",
      "metadata": {
        "id": "qYM76ynGMBql",
        "colab_type": "code",
        "outputId": "0d64bb84-7f8e-4710-8e42-f17497ad8a75",
        "colab": {
          "base_uri": "https://localhost:8080/",
          "height": 158
        }
      },
      "source": [
        "(train_image, train_label),(test_image, test_label) = fashion_mnist.load_data()"
      ],
      "execution_count": 4,
      "outputs": [
        {
          "output_type": "stream",
          "text": [
            "Downloading data from http://fashion-mnist.s3-website.eu-central-1.amazonaws.com/train-labels-idx1-ubyte.gz\n",
            "32768/29515 [=================================] - 0s 4us/step\n",
            "Downloading data from http://fashion-mnist.s3-website.eu-central-1.amazonaws.com/train-images-idx3-ubyte.gz\n",
            "26427392/26421880 [==============================] - 2s 0us/step\n",
            "Downloading data from http://fashion-mnist.s3-website.eu-central-1.amazonaws.com/t10k-labels-idx1-ubyte.gz\n",
            "8192/5148 [===============================================] - 0s 0us/step\n",
            "Downloading data from http://fashion-mnist.s3-website.eu-central-1.amazonaws.com/t10k-images-idx3-ubyte.gz\n",
            "4423680/4422102 [==============================] - 1s 0us/step\n"
          ],
          "name": "stdout"
        }
      ]
    },
    {
      "cell_type": "code",
      "metadata": {
        "id": "L6c2KDYzMKr0",
        "colab_type": "code",
        "outputId": "f905de7c-f6e4-42ea-c98d-ffc7db99830c",
        "colab": {
          "base_uri": "https://localhost:8080/",
          "height": 34
        }
      },
      "source": [
        "train_image.shape"
      ],
      "execution_count": 5,
      "outputs": [
        {
          "output_type": "execute_result",
          "data": {
            "text/plain": [
              "(60000, 28, 28)"
            ]
          },
          "metadata": {
            "tags": []
          },
          "execution_count": 5
        }
      ]
    },
    {
      "cell_type": "code",
      "metadata": {
        "id": "H2hm0yp4MONW",
        "colab_type": "code",
        "outputId": "f2879933-cc2d-40f4-c3a1-52caf2d1a76e",
        "colab": {
          "base_uri": "https://localhost:8080/",
          "height": 887
        }
      },
      "source": [
        "train_image"
      ],
      "execution_count": 6,
      "outputs": [
        {
          "output_type": "execute_result",
          "data": {
            "text/plain": [
              "array([[[0, 0, 0, ..., 0, 0, 0],\n",
              "        [0, 0, 0, ..., 0, 0, 0],\n",
              "        [0, 0, 0, ..., 0, 0, 0],\n",
              "        ...,\n",
              "        [0, 0, 0, ..., 0, 0, 0],\n",
              "        [0, 0, 0, ..., 0, 0, 0],\n",
              "        [0, 0, 0, ..., 0, 0, 0]],\n",
              "\n",
              "       [[0, 0, 0, ..., 0, 0, 0],\n",
              "        [0, 0, 0, ..., 0, 0, 0],\n",
              "        [0, 0, 0, ..., 0, 0, 0],\n",
              "        ...,\n",
              "        [0, 0, 0, ..., 0, 0, 0],\n",
              "        [0, 0, 0, ..., 0, 0, 0],\n",
              "        [0, 0, 0, ..., 0, 0, 0]],\n",
              "\n",
              "       [[0, 0, 0, ..., 0, 0, 0],\n",
              "        [0, 0, 0, ..., 0, 0, 0],\n",
              "        [0, 0, 0, ..., 0, 0, 0],\n",
              "        ...,\n",
              "        [0, 0, 0, ..., 0, 0, 0],\n",
              "        [0, 0, 0, ..., 0, 0, 0],\n",
              "        [0, 0, 0, ..., 0, 0, 0]],\n",
              "\n",
              "       ...,\n",
              "\n",
              "       [[0, 0, 0, ..., 0, 0, 0],\n",
              "        [0, 0, 0, ..., 0, 0, 0],\n",
              "        [0, 0, 0, ..., 0, 0, 0],\n",
              "        ...,\n",
              "        [0, 0, 0, ..., 0, 0, 0],\n",
              "        [0, 0, 0, ..., 0, 0, 0],\n",
              "        [0, 0, 0, ..., 0, 0, 0]],\n",
              "\n",
              "       [[0, 0, 0, ..., 0, 0, 0],\n",
              "        [0, 0, 0, ..., 0, 0, 0],\n",
              "        [0, 0, 0, ..., 0, 0, 0],\n",
              "        ...,\n",
              "        [0, 0, 0, ..., 0, 0, 0],\n",
              "        [0, 0, 0, ..., 0, 0, 0],\n",
              "        [0, 0, 0, ..., 0, 0, 0]],\n",
              "\n",
              "       [[0, 0, 0, ..., 0, 0, 0],\n",
              "        [0, 0, 0, ..., 0, 0, 0],\n",
              "        [0, 0, 0, ..., 0, 0, 0],\n",
              "        ...,\n",
              "        [0, 0, 0, ..., 0, 0, 0],\n",
              "        [0, 0, 0, ..., 0, 0, 0],\n",
              "        [0, 0, 0, ..., 0, 0, 0]]], dtype=uint8)"
            ]
          },
          "metadata": {
            "tags": []
          },
          "execution_count": 6
        }
      ]
    },
    {
      "cell_type": "code",
      "metadata": {
        "id": "Aw_xvdv_MRXM",
        "colab_type": "code",
        "outputId": "b352f27a-818b-4dfa-f410-cb48618dc5c8",
        "colab": {
          "base_uri": "https://localhost:8080/",
          "height": 34
        }
      },
      "source": [
        "train_image.dtype"
      ],
      "execution_count": 7,
      "outputs": [
        {
          "output_type": "execute_result",
          "data": {
            "text/plain": [
              "dtype('uint8')"
            ]
          },
          "metadata": {
            "tags": []
          },
          "execution_count": 7
        }
      ]
    },
    {
      "cell_type": "code",
      "metadata": {
        "id": "OFqFfpCuMUvV",
        "colab_type": "code",
        "outputId": "2603edb3-490a-4ee0-84ff-b48a3c7d5476",
        "colab": {
          "base_uri": "https://localhost:8080/",
          "height": 34
        }
      },
      "source": [
        "train_label"
      ],
      "execution_count": 8,
      "outputs": [
        {
          "output_type": "execute_result",
          "data": {
            "text/plain": [
              "array([9, 0, 0, ..., 3, 0, 5], dtype=uint8)"
            ]
          },
          "metadata": {
            "tags": []
          },
          "execution_count": 8
        }
      ]
    },
    {
      "cell_type": "code",
      "metadata": {
        "id": "g9NLA0KwMbn9",
        "colab_type": "code",
        "outputId": "635b98ac-075d-496f-fc86-8c49d192889c",
        "colab": {
          "base_uri": "https://localhost:8080/",
          "height": 887
        }
      },
      "source": [
        "test_image"
      ],
      "execution_count": 9,
      "outputs": [
        {
          "output_type": "execute_result",
          "data": {
            "text/plain": [
              "array([[[0, 0, 0, ..., 0, 0, 0],\n",
              "        [0, 0, 0, ..., 0, 0, 0],\n",
              "        [0, 0, 0, ..., 0, 0, 0],\n",
              "        ...,\n",
              "        [0, 0, 0, ..., 0, 0, 0],\n",
              "        [0, 0, 0, ..., 0, 0, 0],\n",
              "        [0, 0, 0, ..., 0, 0, 0]],\n",
              "\n",
              "       [[0, 0, 0, ..., 0, 0, 0],\n",
              "        [0, 0, 0, ..., 0, 0, 0],\n",
              "        [0, 0, 0, ..., 0, 0, 0],\n",
              "        ...,\n",
              "        [0, 0, 0, ..., 0, 0, 0],\n",
              "        [0, 0, 0, ..., 0, 0, 0],\n",
              "        [0, 0, 0, ..., 0, 0, 0]],\n",
              "\n",
              "       [[0, 0, 0, ..., 0, 0, 0],\n",
              "        [0, 0, 0, ..., 0, 0, 0],\n",
              "        [0, 0, 0, ..., 0, 0, 0],\n",
              "        ...,\n",
              "        [0, 0, 0, ..., 0, 0, 0],\n",
              "        [0, 0, 0, ..., 0, 0, 0],\n",
              "        [0, 0, 0, ..., 0, 0, 0]],\n",
              "\n",
              "       ...,\n",
              "\n",
              "       [[0, 0, 0, ..., 0, 0, 0],\n",
              "        [0, 0, 0, ..., 0, 0, 0],\n",
              "        [0, 0, 0, ..., 0, 0, 0],\n",
              "        ...,\n",
              "        [0, 0, 0, ..., 0, 0, 0],\n",
              "        [0, 0, 0, ..., 0, 0, 0],\n",
              "        [0, 0, 0, ..., 0, 0, 0]],\n",
              "\n",
              "       [[0, 0, 0, ..., 0, 0, 0],\n",
              "        [0, 0, 0, ..., 0, 0, 0],\n",
              "        [0, 0, 0, ..., 0, 0, 0],\n",
              "        ...,\n",
              "        [0, 0, 0, ..., 0, 0, 0],\n",
              "        [0, 0, 0, ..., 0, 0, 0],\n",
              "        [0, 0, 0, ..., 0, 0, 0]],\n",
              "\n",
              "       [[0, 0, 0, ..., 0, 0, 0],\n",
              "        [0, 0, 0, ..., 0, 0, 0],\n",
              "        [0, 0, 0, ..., 0, 0, 0],\n",
              "        ...,\n",
              "        [0, 0, 0, ..., 0, 0, 0],\n",
              "        [0, 0, 0, ..., 0, 0, 0],\n",
              "        [0, 0, 0, ..., 0, 0, 0]]], dtype=uint8)"
            ]
          },
          "metadata": {
            "tags": []
          },
          "execution_count": 9
        }
      ]
    },
    {
      "cell_type": "code",
      "metadata": {
        "id": "cv7IIE-IMd5R",
        "colab_type": "code",
        "outputId": "ef19ae69-d8e0-4e63-913e-03c17f242102",
        "colab": {
          "base_uri": "https://localhost:8080/",
          "height": 34
        }
      },
      "source": [
        "test_image.shape"
      ],
      "execution_count": 10,
      "outputs": [
        {
          "output_type": "execute_result",
          "data": {
            "text/plain": [
              "(10000, 28, 28)"
            ]
          },
          "metadata": {
            "tags": []
          },
          "execution_count": 10
        }
      ]
    },
    {
      "cell_type": "code",
      "metadata": {
        "id": "KQDlDGIhMif_",
        "colab_type": "code",
        "outputId": "b089c8ee-07aa-4a35-e449-e760758a86e6",
        "colab": {
          "base_uri": "https://localhost:8080/",
          "height": 34
        }
      },
      "source": [
        "test_label.shape"
      ],
      "execution_count": 11,
      "outputs": [
        {
          "output_type": "execute_result",
          "data": {
            "text/plain": [
              "(10000,)"
            ]
          },
          "metadata": {
            "tags": []
          },
          "execution_count": 11
        }
      ]
    },
    {
      "cell_type": "code",
      "metadata": {
        "id": "y_WwhaEMMmis",
        "colab_type": "code",
        "outputId": "aa0e24d1-4e00-4bf8-afb6-f91e16cbfb4e",
        "colab": {
          "base_uri": "https://localhost:8080/",
          "height": 34
        }
      },
      "source": [
        "test_label"
      ],
      "execution_count": 12,
      "outputs": [
        {
          "output_type": "execute_result",
          "data": {
            "text/plain": [
              "array([9, 2, 1, ..., 8, 1, 5], dtype=uint8)"
            ]
          },
          "metadata": {
            "tags": []
          },
          "execution_count": 12
        }
      ]
    },
    {
      "cell_type": "code",
      "metadata": {
        "id": "ouV-7ldBNsEY",
        "colab_type": "code",
        "colab": {}
      },
      "source": [
        "import matplotlib.pyplot as plt"
      ],
      "execution_count": 0,
      "outputs": []
    },
    {
      "cell_type": "code",
      "metadata": {
        "id": "Zf9kPERuN_aj",
        "colab_type": "code",
        "outputId": "28e8883e-e017-4c9f-f969-816900be2559",
        "colab": {
          "base_uri": "https://localhost:8080/",
          "height": 282
        }
      },
      "source": [
        "plt.imshow(train_image[0])"
      ],
      "execution_count": 0,
      "outputs": [
        {
          "output_type": "execute_result",
          "data": {
            "text/plain": [
              "<matplotlib.image.AxesImage at 0x7efd2bec45f8>"
            ]
          },
          "metadata": {
            "tags": []
          },
          "execution_count": 16
        },
        {
          "output_type": "display_data",
          "data": {
            "image/png": "[encoded data removed]",
            "text/plain": [
              "<Figure size 432x288 with 1 Axes>"
            ]
          },
          "metadata": {
            "tags": []
          }
        }
      ]
    },
    {
      "cell_type": "code",
      "metadata": {
        "id": "5HW1lMVOOEDT",
        "colab_type": "code",
        "outputId": "142ef552-643b-478e-d15e-a3a0f0e477e9",
        "colab": {
          "base_uri": "https://localhost:8080/",
          "height": 1000
        }
      },
      "source": [
        "print(train_image[0])"
      ],
      "execution_count": 0,
      "outputs": [
        {
          "output_type": "stream",
          "text": [
            "[[  0   0   0   0   0   0   0   0   0   0   0   0   0   0   0   0   0   0\n",
            "    0   0   0   0   0   0   0   0   0   0]\n",
            " [  0   0   0   0   0   0   0   0   0   0   0   0   0   0   0   0   0   0\n",
            "    0   0   0   0   0   0   0   0   0   0]\n",
            " [  0   0   0   0   0   0   0   0   0   0   0   0   0   0   0   0   0   0\n",
            "    0   0   0   0   0   0   0   0   0   0]\n",
            " [  0   0   0   0   0   0   0   0   0   0   0   0   1   0   0  13  73   0\n",
            "    0   1   4   0   0   0   0   1   1   0]\n",
            " [  0   0   0   0   0   0   0   0   0   0   0   0   3   0  36 136 127  62\n",
            "   54   0   0   0   1   3   4   0   0   3]\n",
            " [  0   0   0   0   0   0   0   0   0   0   0   0   6   0 102 204 176 134\n",
            "  144 123  23   0   0   0   0  12  10   0]\n",
            " [  0   0   0   0   0   0   0   0   0   0   0   0   0   0 155 236 207 178\n",
            "  107 156 161 109  64  23  77 130  72  15]\n",
            " [  0   0   0   0   0   0   0   0   0   0   0   1   0  69 207 223 218 216\n",
            "  216 163 127 121 122 146 141  88 172  66]\n",
            " [  0   0   0   0   0   0   0   0   0   1   1   1   0 200 232 232 233 229\n",
            "  223 223 215 213 164 127 123 196 229   0]\n",
            " [  0   0   0   0   0   0   0   0   0   0   0   0   0 183 225 216 223 228\n",
            "  235 227 224 222 224 221 223 245 173   0]\n",
            " [  0   0   0   0   0   0   0   0   0   0   0   0   0 193 228 218 213 198\n",
            "  180 212 210 211 213 223 220 243 202   0]\n",
            " [  0   0   0   0   0   0   0   0   0   1   3   0  12 219 220 212 218 192\n",
            "  169 227 208 218 224 212 226 197 209  52]\n",
            " [  0   0   0   0   0   0   0   0   0   0   6   0  99 244 222 220 218 203\n",
            "  198 221 215 213 222 220 245 119 167  56]\n",
            " [  0   0   0   0   0   0   0   0   0   4   0   0  55 236 228 230 228 240\n",
            "  232 213 218 223 234 217 217 209  92   0]\n",
            " [  0   0   1   4   6   7   2   0   0   0   0   0 237 226 217 223 222 219\n",
            "  222 221 216 223 229 215 218 255  77   0]\n",
            " [  0   3   0   0   0   0   0   0   0  62 145 204 228 207 213 221 218 208\n",
            "  211 218 224 223 219 215 224 244 159   0]\n",
            " [  0   0   0   0  18  44  82 107 189 228 220 222 217 226 200 205 211 230\n",
            "  224 234 176 188 250 248 233 238 215   0]\n",
            " [  0  57 187 208 224 221 224 208 204 214 208 209 200 159 245 193 206 223\n",
            "  255 255 221 234 221 211 220 232 246   0]\n",
            " [  3 202 228 224 221 211 211 214 205 205 205 220 240  80 150 255 229 221\n",
            "  188 154 191 210 204 209 222 228 225   0]\n",
            " [ 98 233 198 210 222 229 229 234 249 220 194 215 217 241  65  73 106 117\n",
            "  168 219 221 215 217 223 223 224 229  29]\n",
            " [ 75 204 212 204 193 205 211 225 216 185 197 206 198 213 240 195 227 245\n",
            "  239 223 218 212 209 222 220 221 230  67]\n",
            " [ 48 203 183 194 213 197 185 190 194 192 202 214 219 221 220 236 225 216\n",
            "  199 206 186 181 177 172 181 205 206 115]\n",
            " [  0 122 219 193 179 171 183 196 204 210 213 207 211 210 200 196 194 191\n",
            "  195 191 198 192 176 156 167 177 210  92]\n",
            " [  0   0  74 189 212 191 175 172 175 181 185 188 189 188 193 198 204 209\n",
            "  210 210 211 188 188 194 192 216 170   0]\n",
            " [  2   0   0   0  66 200 222 237 239 242 246 243 244 221 220 193 191 179\n",
            "  182 182 181 176 166 168  99  58   0   0]\n",
            " [  0   0   0   0   0   0   0  40  61  44  72  41  35   0   0   0   0   0\n",
            "    0   0   0   0   0   0   0   0   0   0]\n",
            " [  0   0   0   0   0   0   0   0   0   0   0   0   0   0   0   0   0   0\n",
            "    0   0   0   0   0   0   0   0   0   0]\n",
            " [  0   0   0   0   0   0   0   0   0   0   0   0   0   0   0   0   0   0\n",
            "    0   0   0   0   0   0   0   0   0   0]]\n"
          ],
          "name": "stdout"
        }
      ]
    },
    {
      "cell_type": "code",
      "metadata": {
        "id": "eNaq9vRYOGmm",
        "colab_type": "code",
        "colab": {}
      },
      "source": [
        "train_image = train_image/255.0\n",
        "test_image = test_image/255.0"
      ],
      "execution_count": 0,
      "outputs": []
    },
    {
      "cell_type": "code",
      "metadata": {
        "id": "8-A4D8E6icUk",
        "colab_type": "code",
        "colab": {
          "base_uri": "https://localhost:8080/",
          "height": 1000
        },
        "outputId": "03bc1ce2-17f7-43ce-cc9b-8e38e2aa3d91"
      },
      "source": [
        "print(train_image[0])"
      ],
      "execution_count": 20,
      "outputs": [
        {
          "output_type": "stream",
          "text": [
            "[[0.0000000e+00 0.0000000e+00 0.0000000e+00 0.0000000e+00 0.0000000e+00\n",
            "  0.0000000e+00 0.0000000e+00 0.0000000e+00 0.0000000e+00 0.0000000e+00\n",
            "  0.0000000e+00 0.0000000e+00 0.0000000e+00 0.0000000e+00 0.0000000e+00\n",
            "  0.0000000e+00 0.0000000e+00 0.0000000e+00 0.0000000e+00 0.0000000e+00\n",
            "  0.0000000e+00 0.0000000e+00 0.0000000e+00 0.0000000e+00 0.0000000e+00\n",
            "  0.0000000e+00 0.0000000e+00 0.0000000e+00]\n",
            " [0.0000000e+00 0.0000000e+00 0.0000000e+00 0.0000000e+00 0.0000000e+00\n",
            "  0.0000000e+00 0.0000000e+00 0.0000000e+00 0.0000000e+00 0.0000000e+00\n",
            "  0.0000000e+00 0.0000000e+00 0.0000000e+00 0.0000000e+00 0.0000000e+00\n",
            "  0.0000000e+00 0.0000000e+00 0.0000000e+00 0.0000000e+00 0.0000000e+00\n",
            "  0.0000000e+00 0.0000000e+00 0.0000000e+00 0.0000000e+00 0.0000000e+00\n",
            "  0.0000000e+00 0.0000000e+00 0.0000000e+00]\n",
            " [0.0000000e+00 0.0000000e+00 0.0000000e+00 0.0000000e+00 0.0000000e+00\n",
            "  0.0000000e+00 0.0000000e+00 0.0000000e+00 0.0000000e+00 0.0000000e+00\n",
            "  0.0000000e+00 0.0000000e+00 0.0000000e+00 0.0000000e+00 0.0000000e+00\n",
            "  0.0000000e+00 0.0000000e+00 0.0000000e+00 0.0000000e+00 0.0000000e+00\n",
            "  0.0000000e+00 0.0000000e+00 0.0000000e+00 0.0000000e+00 0.0000000e+00\n",
            "  0.0000000e+00 0.0000000e+00 0.0000000e+00]\n",
            " [0.0000000e+00 0.0000000e+00 0.0000000e+00 0.0000000e+00 0.0000000e+00\n",
            "  0.0000000e+00 0.0000000e+00 0.0000000e+00 0.0000000e+00 0.0000000e+00\n",
            "  0.0000000e+00 0.0000000e+00 1.5378702e-05 0.0000000e+00 0.0000000e+00\n",
            "  1.9992310e-04 1.1226452e-03 0.0000000e+00 0.0000000e+00 1.5378702e-05\n",
            "  6.1514809e-05 0.0000000e+00 0.0000000e+00 0.0000000e+00 0.0000000e+00\n",
            "  1.5378702e-05 1.5378702e-05 0.0000000e+00]\n",
            " [0.0000000e+00 0.0000000e+00 0.0000000e+00 0.0000000e+00 0.0000000e+00\n",
            "  0.0000000e+00 0.0000000e+00 0.0000000e+00 0.0000000e+00 0.0000000e+00\n",
            "  0.0000000e+00 0.0000000e+00 4.6136101e-05 0.0000000e+00 5.5363326e-04\n",
            "  2.0915035e-03 1.9530950e-03 9.5347944e-04 8.3044986e-04 0.0000000e+00\n",
            "  0.0000000e+00 0.0000000e+00 1.5378702e-05 4.6136101e-05 6.1514809e-05\n",
            "  0.0000000e+00 0.0000000e+00 4.6136101e-05]\n",
            " [0.0000000e+00 0.0000000e+00 0.0000000e+00 0.0000000e+00 0.0000000e+00\n",
            "  0.0000000e+00 0.0000000e+00 0.0000000e+00 0.0000000e+00 0.0000000e+00\n",
            "  0.0000000e+00 0.0000000e+00 9.2272203e-05 0.0000000e+00 1.5686274e-03\n",
            "  3.1372549e-03 2.7066513e-03 2.0607461e-03 2.2145330e-03 1.8915802e-03\n",
            "  3.5371011e-04 0.0000000e+00 0.0000000e+00 0.0000000e+00 0.0000000e+00\n",
            "  1.8454441e-04 1.5378701e-04 0.0000000e+00]\n",
            " [0.0000000e+00 0.0000000e+00 0.0000000e+00 0.0000000e+00 0.0000000e+00\n",
            "  0.0000000e+00 0.0000000e+00 0.0000000e+00 0.0000000e+00 0.0000000e+00\n",
            "  0.0000000e+00 0.0000000e+00 0.0000000e+00 0.0000000e+00 2.3836987e-03\n",
            "  3.6293734e-03 3.1833909e-03 2.7374087e-03 1.6455210e-03 2.3990774e-03\n",
            "  2.4759709e-03 1.6762784e-03 9.8423695e-04 3.5371011e-04 1.1841600e-03\n",
            "  1.9992313e-03 1.1072665e-03 2.3068051e-04]\n",
            " [0.0000000e+00 0.0000000e+00 0.0000000e+00 0.0000000e+00 0.0000000e+00\n",
            "  0.0000000e+00 0.0000000e+00 0.0000000e+00 0.0000000e+00 0.0000000e+00\n",
            "  0.0000000e+00 1.5378702e-05 0.0000000e+00 1.0611304e-03 3.1833909e-03\n",
            "  3.4294503e-03 3.3525568e-03 3.3217994e-03 3.3217994e-03 2.5067283e-03\n",
            "  1.9530950e-03 1.8608228e-03 1.8762015e-03 2.2452904e-03 2.1683970e-03\n",
            "  1.3533257e-03 2.6451366e-03 1.0149943e-03]\n",
            " [0.0000000e+00 0.0000000e+00 0.0000000e+00 0.0000000e+00 0.0000000e+00\n",
            "  0.0000000e+00 0.0000000e+00 0.0000000e+00 0.0000000e+00 1.5378702e-05\n",
            "  1.5378702e-05 1.5378702e-05 0.0000000e+00 3.0757401e-03 3.5678586e-03\n",
            "  3.5678586e-03 3.5832373e-03 3.5217225e-03 3.4294503e-03 3.4294503e-03\n",
            "  3.3064208e-03 3.2756634e-03 2.5221070e-03 1.9530950e-03 1.8915802e-03\n",
            "  3.0142253e-03 3.5217225e-03 0.0000000e+00]\n",
            " [0.0000000e+00 0.0000000e+00 0.0000000e+00 0.0000000e+00 0.0000000e+00\n",
            "  0.0000000e+00 0.0000000e+00 0.0000000e+00 0.0000000e+00 0.0000000e+00\n",
            "  0.0000000e+00 0.0000000e+00 0.0000000e+00 2.8143022e-03 3.4602077e-03\n",
            "  3.3217994e-03 3.4294503e-03 3.5063438e-03 3.6139947e-03 3.4909651e-03\n",
            "  3.4448290e-03 3.4140716e-03 3.4448290e-03 3.3986929e-03 3.4294503e-03\n",
            "  3.7677817e-03 2.6605153e-03 0.0000000e+00]\n",
            " [0.0000000e+00 0.0000000e+00 0.0000000e+00 0.0000000e+00 0.0000000e+00\n",
            "  0.0000000e+00 0.0000000e+00 0.0000000e+00 0.0000000e+00 0.0000000e+00\n",
            "  0.0000000e+00 0.0000000e+00 0.0000000e+00 2.9680892e-03 3.5063438e-03\n",
            "  3.3525568e-03 3.2756634e-03 3.0449827e-03 2.7681661e-03 3.2602844e-03\n",
            "  3.2295270e-03 3.2449057e-03 3.2756634e-03 3.4294503e-03 3.3833142e-03\n",
            "  3.7370243e-03 3.1064975e-03 0.0000000e+00]\n",
            " [0.0000000e+00 0.0000000e+00 0.0000000e+00 0.0000000e+00 0.0000000e+00\n",
            "  0.0000000e+00 0.0000000e+00 0.0000000e+00 0.0000000e+00 1.5378702e-05\n",
            "  4.6136101e-05 0.0000000e+00 1.8454441e-04 3.3679355e-03 3.3833142e-03\n",
            "  3.2602844e-03 3.3525568e-03 2.9527105e-03 2.5990005e-03 3.4909651e-03\n",
            "  3.1987696e-03 3.3525568e-03 3.4448290e-03 3.2602844e-03 3.4755864e-03\n",
            "  3.0296040e-03 3.2141483e-03 7.9969241e-04]\n",
            " [0.0000000e+00 0.0000000e+00 0.0000000e+00 0.0000000e+00 0.0000000e+00\n",
            "  0.0000000e+00 0.0000000e+00 0.0000000e+00 0.0000000e+00 0.0000000e+00\n",
            "  9.2272203e-05 0.0000000e+00 1.5224913e-03 3.7524030e-03 3.4140716e-03\n",
            "  3.3833142e-03 3.3525568e-03 3.1218762e-03 3.0449827e-03 3.3986929e-03\n",
            "  3.3064208e-03 3.2756634e-03 3.4140716e-03 3.3833142e-03 3.7677817e-03\n",
            "  1.8300654e-03 2.5682431e-03 8.6120726e-04]\n",
            " [0.0000000e+00 0.0000000e+00 0.0000000e+00 0.0000000e+00 0.0000000e+00\n",
            "  0.0000000e+00 0.0000000e+00 0.0000000e+00 0.0000000e+00 6.1514809e-05\n",
            "  0.0000000e+00 0.0000000e+00 8.4582856e-04 3.6293734e-03 3.5063438e-03\n",
            "  3.5371012e-03 3.5063438e-03 3.6908882e-03 3.5678586e-03 3.2756634e-03\n",
            "  3.3525568e-03 3.4294503e-03 3.5986160e-03 3.3371781e-03 3.3371781e-03\n",
            "  3.2141483e-03 1.4148405e-03 0.0000000e+00]\n",
            " [0.0000000e+00 0.0000000e+00 1.5378702e-05 6.1514809e-05 9.2272203e-05\n",
            "  1.0765091e-04 3.0757405e-05 0.0000000e+00 0.0000000e+00 0.0000000e+00\n",
            "  0.0000000e+00 0.0000000e+00 3.6447521e-03 3.4755864e-03 3.3371781e-03\n",
            "  3.4294503e-03 3.4140716e-03 3.3679355e-03 3.4140716e-03 3.3986929e-03\n",
            "  3.3217994e-03 3.4294503e-03 3.5217225e-03 3.3064208e-03 3.3525568e-03\n",
            "  3.9215689e-03 1.1841600e-03 0.0000000e+00]\n",
            " [0.0000000e+00 4.6136101e-05 0.0000000e+00 0.0000000e+00 0.0000000e+00\n",
            "  0.0000000e+00 0.0000000e+00 0.0000000e+00 0.0000000e+00 9.5347944e-04\n",
            "  2.2299117e-03 3.1372549e-03 3.5063438e-03 3.1833909e-03 3.2756634e-03\n",
            "  3.3986929e-03 3.3525568e-03 3.1987696e-03 3.2449057e-03 3.3525568e-03\n",
            "  3.4448290e-03 3.4294503e-03 3.3679355e-03 3.3064208e-03 3.4448290e-03\n",
            "  3.7524030e-03 2.4452135e-03 0.0000000e+00]\n",
            " [0.0000000e+00 0.0000000e+00 0.0000000e+00 0.0000000e+00 2.7681663e-04\n",
            "  6.7666284e-04 1.2610535e-03 1.6455210e-03 2.9065744e-03 3.5063438e-03\n",
            "  3.3833142e-03 3.4140716e-03 3.3371781e-03 3.4755864e-03 3.0757401e-03\n",
            "  3.1526336e-03 3.2449057e-03 3.5371012e-03 3.4448290e-03 3.5986160e-03\n",
            "  2.7066513e-03 2.8911957e-03 3.8446751e-03 3.8139177e-03 3.5832373e-03\n",
            "  3.6601308e-03 3.3064208e-03 0.0000000e+00]\n",
            " [0.0000000e+00 8.7658595e-04 2.8758170e-03 3.1987696e-03 3.4448290e-03\n",
            "  3.3986929e-03 3.4448290e-03 3.1987696e-03 3.1372549e-03 3.2910421e-03\n",
            "  3.1987696e-03 3.2141483e-03 3.0757401e-03 2.4452135e-03 3.7677817e-03\n",
            "  2.9680892e-03 3.1680122e-03 3.4294503e-03 3.9215689e-03 3.9215689e-03\n",
            "  3.3986929e-03 3.5986160e-03 3.3986929e-03 3.2449057e-03 3.3833142e-03\n",
            "  3.5678586e-03 3.7831604e-03 0.0000000e+00]\n",
            " [4.6136101e-05 3.1064975e-03 3.5063438e-03 3.4448290e-03 3.3986929e-03\n",
            "  3.2449057e-03 3.2449057e-03 3.2910421e-03 3.1526336e-03 3.1526336e-03\n",
            "  3.1526336e-03 3.3833142e-03 3.6908882e-03 1.2302961e-03 2.3068052e-03\n",
            "  3.9215689e-03 3.5217225e-03 3.3986929e-03 2.8911957e-03 2.3683200e-03\n",
            "  2.9373318e-03 3.2295270e-03 3.1372549e-03 3.2141483e-03 3.4140716e-03\n",
            "  3.5063438e-03 3.4602077e-03 0.0000000e+00]\n",
            " [1.5071126e-03 3.5832373e-03 3.0449827e-03 3.2295270e-03 3.4140716e-03\n",
            "  3.5217225e-03 3.5217225e-03 3.5986160e-03 3.8292964e-03 3.3833142e-03\n",
            "  2.9834679e-03 3.3064208e-03 3.3371781e-03 3.7062669e-03 9.9961564e-04\n",
            "  1.1226452e-03 1.6301422e-03 1.7993080e-03 2.5836218e-03 3.3679355e-03\n",
            "  3.3986929e-03 3.3064208e-03 3.3371781e-03 3.4294503e-03 3.4294503e-03\n",
            "  3.4448290e-03 3.5217225e-03 4.4598232e-04]\n",
            " [1.1534026e-03 3.1372549e-03 3.2602844e-03 3.1372549e-03 2.9680892e-03\n",
            "  3.1526336e-03 3.2449057e-03 3.4602077e-03 3.3217994e-03 2.8450596e-03\n",
            "  3.0296040e-03 3.1680122e-03 3.0449827e-03 3.2756634e-03 3.6908882e-03\n",
            "  2.9988466e-03 3.4909651e-03 3.7677817e-03 3.6755095e-03 3.4294503e-03\n",
            "  3.3525568e-03 3.2602844e-03 3.2141483e-03 3.4140716e-03 3.3833142e-03\n",
            "  3.3986929e-03 3.5371012e-03 1.0303730e-03]\n",
            " [7.3817762e-04 3.1218762e-03 2.8143022e-03 2.9834679e-03 3.2756634e-03\n",
            "  3.0296040e-03 2.8450596e-03 2.9219531e-03 2.9834679e-03 2.9527105e-03\n",
            "  3.1064975e-03 3.2910421e-03 3.3679355e-03 3.3986929e-03 3.3833142e-03\n",
            "  3.6293734e-03 3.4602077e-03 3.3217994e-03 3.0603614e-03 3.1680122e-03\n",
            "  2.8604383e-03 2.7835448e-03 2.7220300e-03 2.6451366e-03 2.7835448e-03\n",
            "  3.1526336e-03 3.1680122e-03 1.7685506e-03]\n",
            " [0.0000000e+00 1.8762015e-03 3.3679355e-03 2.9680892e-03 2.7527874e-03\n",
            "  2.6297579e-03 2.8143022e-03 3.0142253e-03 3.1372549e-03 3.2295270e-03\n",
            "  3.2756634e-03 3.1833909e-03 3.2449057e-03 3.2295270e-03 3.0757401e-03\n",
            "  3.0142253e-03 2.9834679e-03 2.9373318e-03 2.9988466e-03 2.9373318e-03\n",
            "  3.0449827e-03 2.9527105e-03 2.7066513e-03 2.3990774e-03 2.5682431e-03\n",
            "  2.7220300e-03 3.2295270e-03 1.4148405e-03]\n",
            " [0.0000000e+00 0.0000000e+00 1.1380239e-03 2.9065744e-03 3.2602844e-03\n",
            "  2.9373318e-03 2.6912726e-03 2.6451366e-03 2.6912726e-03 2.7835448e-03\n",
            "  2.8450596e-03 2.8911957e-03 2.9065744e-03 2.8911957e-03 2.9680892e-03\n",
            "  3.0449827e-03 3.1372549e-03 3.2141483e-03 3.2295270e-03 3.2295270e-03\n",
            "  3.2449057e-03 2.8911957e-03 2.8911957e-03 2.9834679e-03 2.9527105e-03\n",
            "  3.3217994e-03 2.6143792e-03 0.0000000e+00]\n",
            " [3.0757405e-05 0.0000000e+00 0.0000000e+00 0.0000000e+00 1.0149943e-03\n",
            "  3.0757401e-03 3.4140716e-03 3.6447521e-03 3.6755095e-03 3.7216456e-03\n",
            "  3.7831604e-03 3.7370243e-03 3.7524030e-03 3.3986929e-03 3.3833142e-03\n",
            "  2.9680892e-03 2.9373318e-03 2.7527874e-03 2.7989235e-03 2.7989235e-03\n",
            "  2.7835448e-03 2.7066513e-03 2.5528644e-03 2.5836218e-03 1.5224913e-03\n",
            "  8.9196465e-04 0.0000000e+00 0.0000000e+00]\n",
            " [0.0000000e+00 0.0000000e+00 0.0000000e+00 0.0000000e+00 0.0000000e+00\n",
            "  0.0000000e+00 0.0000000e+00 6.1514805e-04 9.3810074e-04 6.7666284e-04\n",
            "  1.1072665e-03 6.3052675e-04 5.3825456e-04 0.0000000e+00 0.0000000e+00\n",
            "  0.0000000e+00 0.0000000e+00 0.0000000e+00 0.0000000e+00 0.0000000e+00\n",
            "  0.0000000e+00 0.0000000e+00 0.0000000e+00 0.0000000e+00 0.0000000e+00\n",
            "  0.0000000e+00 0.0000000e+00 0.0000000e+00]\n",
            " [0.0000000e+00 0.0000000e+00 0.0000000e+00 0.0000000e+00 0.0000000e+00\n",
            "  0.0000000e+00 0.0000000e+00 0.0000000e+00 0.0000000e+00 0.0000000e+00\n",
            "  0.0000000e+00 0.0000000e+00 0.0000000e+00 0.0000000e+00 0.0000000e+00\n",
            "  0.0000000e+00 0.0000000e+00 0.0000000e+00 0.0000000e+00 0.0000000e+00\n",
            "  0.0000000e+00 0.0000000e+00 0.0000000e+00 0.0000000e+00 0.0000000e+00\n",
            "  0.0000000e+00 0.0000000e+00 0.0000000e+00]\n",
            " [0.0000000e+00 0.0000000e+00 0.0000000e+00 0.0000000e+00 0.0000000e+00\n",
            "  0.0000000e+00 0.0000000e+00 0.0000000e+00 0.0000000e+00 0.0000000e+00\n",
            "  0.0000000e+00 0.0000000e+00 0.0000000e+00 0.0000000e+00 0.0000000e+00\n",
            "  0.0000000e+00 0.0000000e+00 0.0000000e+00 0.0000000e+00 0.0000000e+00\n",
            "  0.0000000e+00 0.0000000e+00 0.0000000e+00 0.0000000e+00 0.0000000e+00\n",
            "  0.0000000e+00 0.0000000e+00 0.0000000e+00]]\n"
          ],
          "name": "stdout"
        }
      ]
    },
    {
      "cell_type": "code",
      "metadata": {
        "id": "M3pDEMnCMpX4",
        "colab_type": "code",
        "colab": {}
      },
      "source": [
        "model = tf.keras.Sequential([\n",
        "                             tf.keras.layers.Flatten(),\n",
        "                             tf.keras.layers.Dense(128, activation=tf.nn.relu),\n",
        "                             tf.keras.layers.Dense(10, activation=tf.nn.softmax)\n",
        "])"
      ],
      "execution_count": 0,
      "outputs": []
    },
    {
      "cell_type": "code",
      "metadata": {
        "id": "v-msB5P3Ob0Q",
        "colab_type": "code",
        "colab": {}
      },
      "source": [
        "model.compile(optimizer='adam', loss='sparse_categorical_crossentropy', metrics=['accuracy'])"
      ],
      "execution_count": 0,
      "outputs": []
    },
    {
      "cell_type": "code",
      "metadata": {
        "id": "agJSXC_sO-2N",
        "colab_type": "code",
        "outputId": "4c105110-ee19-409d-ac72-0febd13980d2",
        "colab": {
          "base_uri": "https://localhost:8080/",
          "height": 407
        }
      },
      "source": [
        "model.fit(train_image, train_label, epochs=10, batch_size=200)"
      ],
      "execution_count": 23,
      "outputs": [
        {
          "output_type": "stream",
          "text": [
            "Train on 60000 samples\n",
            "Epoch 1/10\n",
            "60000/60000 [==============================] - 1s 22us/sample - loss: 1.7712 - acc: 0.5404\n",
            "Epoch 2/10\n",
            "60000/60000 [==============================] - 1s 22us/sample - loss: 1.0486 - acc: 0.6744\n",
            "Epoch 3/10\n",
            "60000/60000 [==============================] - 1s 22us/sample - loss: 0.8112 - acc: 0.7307\n",
            "Epoch 4/10\n",
            "60000/60000 [==============================] - 1s 21us/sample - loss: 0.7059 - acc: 0.7520\n",
            "Epoch 5/10\n",
            "60000/60000 [==============================] - 1s 21us/sample - loss: 0.6485 - acc: 0.7684\n",
            "Epoch 6/10\n",
            "60000/60000 [==============================] - 1s 22us/sample - loss: 0.6097 - acc: 0.7818\n",
            "Epoch 7/10\n",
            "60000/60000 [==============================] - 1s 22us/sample - loss: 0.5801 - acc: 0.7937\n",
            "Epoch 8/10\n",
            "60000/60000 [==============================] - 1s 21us/sample - loss: 0.5569 - acc: 0.8032\n",
            "Epoch 9/10\n",
            "60000/60000 [==============================] - 1s 22us/sample - loss: 0.5378 - acc: 0.8102\n",
            "Epoch 10/10\n",
            "60000/60000 [==============================] - 1s 22us/sample - loss: 0.5221 - acc: 0.8161\n"
          ],
          "name": "stdout"
        },
        {
          "output_type": "execute_result",
          "data": {
            "text/plain": [
              "<tensorflow.python.keras.callbacks.History at 0x7fe7625fd438>"
            ]
          },
          "metadata": {
            "tags": []
          },
          "execution_count": 23
        }
      ]
    },
    {
      "cell_type": "code",
      "metadata": {
        "id": "SC8JzaSjPJPh",
        "colab_type": "code",
        "outputId": "69742e16-5941-4aea-b102-8223343c87f5",
        "colab": {
          "base_uri": "https://localhost:8080/",
          "height": 52
        }
      },
      "source": [
        "model.evaluate(test_image,test_label)"
      ],
      "execution_count": 24,
      "outputs": [
        {
          "output_type": "stream",
          "text": [
            "10000/10000 [==============================] - 0s 35us/sample - loss: 0.5377 - acc: 0.8055\n"
          ],
          "name": "stdout"
        },
        {
          "output_type": "execute_result",
          "data": {
            "text/plain": [
              "[0.5377335088729859, 0.8055]"
            ]
          },
          "metadata": {
            "tags": []
          },
          "execution_count": 24
        }
      ]
    },
    {
      "cell_type": "code",
      "metadata": {
        "id": "J7iiSM7fPcQj",
        "colab_type": "code",
        "colab": {}
      },
      "source": [
        "t = model.predict(test_image)"
      ],
      "execution_count": 0,
      "outputs": []
    },
    {
      "cell_type": "code",
      "metadata": {
        "id": "4fEFVWZvXykN",
        "colab_type": "code",
        "outputId": "69636036-481e-4a64-c73d-56cb62fff1e2",
        "colab": {
          "base_uri": "https://localhost:8080/",
          "height": 34
        }
      },
      "source": [
        "test_label[0]"
      ],
      "execution_count": 26,
      "outputs": [
        {
          "output_type": "execute_result",
          "data": {
            "text/plain": [
              "9"
            ]
          },
          "metadata": {
            "tags": []
          },
          "execution_count": 26
        }
      ]
    },
    {
      "cell_type": "code",
      "metadata": {
        "id": "LvF-kEIbXz44",
        "colab_type": "code",
        "outputId": "20d47769-d360-41da-9dba-e5eaffc8cc5d",
        "colab": {
          "base_uri": "https://localhost:8080/",
          "height": 34
        }
      },
      "source": [
        "len(t)"
      ],
      "execution_count": 27,
      "outputs": [
        {
          "output_type": "execute_result",
          "data": {
            "text/plain": [
              "10000"
            ]
          },
          "metadata": {
            "tags": []
          },
          "execution_count": 27
        }
      ]
    },
    {
      "cell_type": "code",
      "metadata": {
        "id": "sUz52B9LYSmJ",
        "colab_type": "code",
        "outputId": "eb7607b4-abad-4fe2-8817-015febdf50a3",
        "colab": {
          "base_uri": "https://localhost:8080/",
          "height": 70
        }
      },
      "source": [
        "t[1]"
      ],
      "execution_count": 28,
      "outputs": [
        {
          "output_type": "execute_result",
          "data": {
            "text/plain": [
              "array([4.4565028e-04, 1.2821381e-05, 8.7978035e-01, 2.6037090e-04,\n",
              "       2.6086489e-02, 6.5465969e-08, 9.3180671e-02, 6.2638739e-10,\n",
              "       2.3359091e-04, 4.0322032e-08], dtype=float32)"
            ]
          },
          "metadata": {
            "tags": []
          },
          "execution_count": 28
        }
      ]
    },
    {
      "cell_type": "code",
      "metadata": {
        "id": "6gxdHwXoYUoH",
        "colab_type": "code",
        "colab": {
          "base_uri": "https://localhost:8080/",
          "height": 70
        },
        "outputId": "7554f316-c5ca-4576-e68f-f303ba2a6076"
      },
      "source": [
        "t[0]"
      ],
      "execution_count": 29,
      "outputs": [
        {
          "output_type": "execute_result",
          "data": {
            "text/plain": [
              "array([6.2957920e-06, 8.1701853e-07, 1.4553940e-05, 1.6094264e-05,\n",
              "       5.5334880e-05, 1.8424937e-01, 4.0878502e-05, 3.5076302e-01,\n",
              "       1.0861724e-02, 4.5399189e-01], dtype=float32)"
            ]
          },
          "metadata": {
            "tags": []
          },
          "execution_count": 29
        }
      ]
    },
    {
      "cell_type": "code",
      "metadata": {
        "id": "TRQr7o-TjUD9",
        "colab_type": "code",
        "colab": {
          "base_uri": "https://localhost:8080/",
          "height": 34
        },
        "outputId": "82290e64-363e-4e8d-8135-8b385bfb5fb6"
      },
      "source": [
        "import numpy as np\n",
        "np.argmax(t[0])"
      ],
      "execution_count": 31,
      "outputs": [
        {
          "output_type": "execute_result",
          "data": {
            "text/plain": [
              "9"
            ]
          },
          "metadata": {
            "tags": []
          },
          "execution_count": 31
        }
      ]
    },
    {
      "cell_type": "code",
      "metadata": {
        "id": "Hrylb2Mhjb4l",
        "colab_type": "code",
        "colab": {
          "base_uri": "https://localhost:8080/",
          "height": 34
        },
        "outputId": "00da3d50-013a-48a2-e28e-1c09afd4e972"
      },
      "source": [
        "test_label[0]"
      ],
      "execution_count": 32,
      "outputs": [
        {
          "output_type": "execute_result",
          "data": {
            "text/plain": [
              "9"
            ]
          },
          "metadata": {
            "tags": []
          },
          "execution_count": 32
        }
      ]
    },
    {
      "cell_type": "code",
      "metadata": {
        "id": "6Id2WFRFjlt_",
        "colab_type": "code",
        "colab": {}
      },
      "source": [
        ""
      ],
      "execution_count": 0,
      "outputs": []
    }
  ]
}